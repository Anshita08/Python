{
 "cells": [
  {
   "cell_type": "code",
   "execution_count": 11,
   "metadata": {},
   "outputs": [
    {
     "name": "stdout",
     "output_type": "stream",
     "text": [
      "Enter the length you want for the password : 50\n"
     ]
    },
    {
     "data": {
      "text/plain": [
       "'AaTw#aUq(*Bw/jCSVV1#J)s;p&U3*I2B<F$s5J66N6QEQr0#*O'"
      ]
     },
     "execution_count": 11,
     "metadata": {},
     "output_type": "execute_result"
    }
   ],
   "source": [
    "import random\n",
    "\n",
    "length=int(input('Enter the length you want for the password : '))\n",
    "temp_password=\"\"\n",
    "temp_pass_li=[]\n",
    "lower=['a', 'b', 'c', 'd', 'e', 'f', 'g', 'h','i', 'j', 'k', 'm', 'n', 'o', 'p', 'q','r', 's', 't', 'u', 'v', 'w', 'x', 'y','z']\n",
    "upper=['A', 'B', 'C', 'D', 'E', 'F', 'G', 'H',  'I', 'J', 'K', 'M', 'N', 'O', 'p', 'Q', 'R', 'S', 'T', 'U', 'V', 'W', 'X', 'Y','Z']\n",
    "digits=['1','2','3','4','5','6','7','8','9','0']\n",
    "special_chars=['!','@','#','$','%','^','&','*','(',')','_','+','-','*','/',':',';','<','>','?']\n",
    "\n",
    "total_chars=lower+upper+digits+special_chars\n",
    "for i in range(1,length+1):\n",
    "    temp_password+=random.choice(total_chars)\n",
    "temp_password"
   ]
  },
  {
   "cell_type": "code",
   "execution_count": null,
   "metadata": {},
   "outputs": [],
   "source": []
  }
 ],
 "metadata": {
  "kernelspec": {
   "display_name": "Python 3",
   "language": "python",
   "name": "python3"
  },
  "language_info": {
   "codemirror_mode": {
    "name": "ipython",
    "version": 3
   },
   "file_extension": ".py",
   "mimetype": "text/x-python",
   "name": "python",
   "nbconvert_exporter": "python",
   "pygments_lexer": "ipython3",
   "version": "3.7.6"
  }
 },
 "nbformat": 4,
 "nbformat_minor": 4
}
