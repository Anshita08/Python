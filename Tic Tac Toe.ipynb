{
 "cells": [
  {
   "cell_type": "code",
   "execution_count": 1,
   "metadata": {},
   "outputs": [],
   "source": [
    "def display_board(board):\n",
    "    print(\"   |   |  \")\n",
    "    print(\" \"+board[0]+\" | \"+board[1]+\" | \"+board[2])\n",
    "    print(\"   |   |  \")\n",
    "    print(\"-----------\")\n",
    "    print(\"   |   |  \")\n",
    "    print(\" \"+board[3]+\" | \"+board[4]+\" | \"+board[5])\n",
    "    print(\"   |   |  \")\n",
    "    print(\"-----------\")\n",
    "    print(\"   |   |  \")\n",
    "    print(\" \"+board[6]+\" | \"+board[7]+\" | \"+board[8])\n",
    "    print(\"   |   |  \")"
   ]
  },
  {
   "cell_type": "code",
   "execution_count": 2,
   "metadata": {},
   "outputs": [],
   "source": [
    "#board=['O','X','O','X','O','X','O','X','O','@']\n",
    "#board=[]\n",
    "#print_board(board)"
   ]
  },
  {
   "cell_type": "code",
   "execution_count": 3,
   "metadata": {},
   "outputs": [],
   "source": [
    "def player_input():\n",
    "    player_marker=''\n",
    "    while not player_marker in ['X','O']:\n",
    "        player_marker=input(\"Enter X for crosses and O for noughts : \").upper()\n",
    "        \n",
    "    if player_marker=='X':\n",
    "        return 'X','O'\n",
    "    else:\n",
    "        return 'O','X'\n",
    "    #print('Player1 : {} and Player2 : {}'.format(player1,player2))"
   ]
  },
  {
   "cell_type": "code",
   "execution_count": 4,
   "metadata": {},
   "outputs": [],
   "source": [
    "#player_input()"
   ]
  },
  {
   "cell_type": "code",
   "execution_count": 5,
   "metadata": {},
   "outputs": [],
   "source": [
    "def place_marker(board, marker, position):\n",
    "    board[position]=marker"
   ]
  },
  {
   "cell_type": "code",
   "execution_count": 6,
   "metadata": {},
   "outputs": [],
   "source": [
    "#place_marker(board,'%',6)\n",
    "#print_board(board)\n"
   ]
  },
  {
   "cell_type": "code",
   "execution_count": 7,
   "metadata": {},
   "outputs": [],
   "source": [
    "def win_check(board, mark):\n",
    "    return (board[0]==mark and board[1]==mark and board[2]==mark) or (board[3]==mark and board[4]==mark and board[5]==mark) or (board[6]==mark and board[7]==mark and board[8]==mark) or (board[0]==mark and board[4]==mark and board[8]==mark) or (board[2]==mark and board[4]==mark and board[6]==mark) or (board[0]==mark and board[3]==mark and board[6]==mark) or (board[1]==mark and board[4]==mark and board[7]==mark) or (board[2]==mark and board[5]==mark and board[8]==mark)"
   ]
  },
  {
   "cell_type": "code",
   "execution_count": 8,
   "metadata": {},
   "outputs": [],
   "source": [
    "#win_check(board,'O')"
   ]
  },
  {
   "cell_type": "code",
   "execution_count": 9,
   "metadata": {},
   "outputs": [],
   "source": [
    "import random\n",
    "\n",
    "def choose_first():\n",
    "    play_first=random.randint(1,2)\n",
    "    #print(play_first)\n",
    "    return play_first\n",
    "    #print('Player{} will play first.'.format(play_first))"
   ]
  },
  {
   "cell_type": "code",
   "execution_count": 10,
   "metadata": {},
   "outputs": [],
   "source": [
    "#choose_first()"
   ]
  },
  {
   "cell_type": "code",
   "execution_count": 11,
   "metadata": {},
   "outputs": [],
   "source": [
    "def space_check(board, position):\n",
    "    return board[position]==' '"
   ]
  },
  {
   "cell_type": "code",
   "execution_count": 12,
   "metadata": {},
   "outputs": [],
   "source": [
    "#space_check(board,5)"
   ]
  },
  {
   "cell_type": "code",
   "execution_count": 13,
   "metadata": {},
   "outputs": [],
   "source": [
    "def full_board_check(board):\n",
    "    for i in range(0,9):\n",
    "        if space_check(board, i):\n",
    "            return False\n",
    "    return True"
   ]
  },
  {
   "cell_type": "code",
   "execution_count": 14,
   "metadata": {},
   "outputs": [],
   "source": [
    "#full_board_check(board)"
   ]
  },
  {
   "cell_type": "code",
   "execution_count": 15,
   "metadata": {},
   "outputs": [],
   "source": [
    "def player_choice(board):\n",
    "    position=-1\n",
    "    while position not in [0,1,2,3,4,5,6,7,8] or not space_check(board, position):\n",
    "        position = int(input('Choose your next position: (0-8) '))\n",
    "        \n",
    "    return position"
   ]
  },
  {
   "cell_type": "code",
   "execution_count": 16,
   "metadata": {},
   "outputs": [],
   "source": [
    "#player_choice(board)"
   ]
  },
  {
   "cell_type": "code",
   "execution_count": 17,
   "metadata": {},
   "outputs": [],
   "source": [
    "def replay():\n",
    "    replay_str=''\n",
    "    while not replay_str in ['yes','no','y','n']:\n",
    "        replay_str=input('Do you want to replay the Tic Tac Toe game (Yes/No) : ').lower()\n",
    "    if replay_str=='y':\n",
    "        return True\n",
    "    return False"
   ]
  },
  {
   "cell_type": "code",
   "execution_count": 18,
   "metadata": {},
   "outputs": [],
   "source": [
    "#replay()"
   ]
  },
  {
   "cell_type": "code",
   "execution_count": 19,
   "metadata": {},
   "outputs": [
    {
     "name": "stdout",
     "output_type": "stream",
     "text": [
      "Welcome to Tic Tac Toe!\n",
      "Enter X for crosses and O for noughts : X\n",
      "Player2 will play first.\n",
      "Ready to play (Yes/No) : y\n",
      "   |   |  \n",
      "   |   |  \n",
      "   |   |  \n",
      "-----------\n",
      "   |   |  \n",
      "   |   |  \n",
      "   |   |  \n",
      "-----------\n",
      "   |   |  \n",
      "   |   |  \n",
      "   |   |  \n",
      "************\n",
      "Choose your next position: (0-8) 1\n",
      "   |   |  \n",
      "   | O |  \n",
      "   |   |  \n",
      "-----------\n",
      "   |   |  \n",
      "   |   |  \n",
      "   |   |  \n",
      "-----------\n",
      "   |   |  \n",
      "   |   |  \n",
      "   |   |  \n",
      "************\n",
      "Choose your next position: (0-8) 6\n",
      "   |   |  \n",
      "   | O |  \n",
      "   |   |  \n",
      "-----------\n",
      "   |   |  \n",
      "   |   |  \n",
      "   |   |  \n",
      "-----------\n",
      "   |   |  \n",
      " X |   |  \n",
      "   |   |  \n",
      "************\n",
      "Choose your next position: (0-8) 7\n",
      "   |   |  \n",
      "   | O |  \n",
      "   |   |  \n",
      "-----------\n",
      "   |   |  \n",
      "   |   |  \n",
      "   |   |  \n",
      "-----------\n",
      "   |   |  \n",
      " X | O |  \n",
      "   |   |  \n",
      "************\n",
      "Choose your next position: (0-8) 0\n",
      "   |   |  \n",
      " X | O |  \n",
      "   |   |  \n",
      "-----------\n",
      "   |   |  \n",
      "   |   |  \n",
      "   |   |  \n",
      "-----------\n",
      "   |   |  \n",
      " X | O |  \n",
      "   |   |  \n",
      "************\n",
      "Choose your next position: (0-8) 5\n",
      "   |   |  \n",
      " X | O |  \n",
      "   |   |  \n",
      "-----------\n",
      "   |   |  \n",
      "   |   | O\n",
      "   |   |  \n",
      "-----------\n",
      "   |   |  \n",
      " X | O |  \n",
      "   |   |  \n",
      "************\n",
      "Choose your next position: (0-8) 3\n",
      "   |   |  \n",
      " X | O |  \n",
      "   |   |  \n",
      "-----------\n",
      "   |   |  \n",
      " X |   | O\n",
      "   |   |  \n",
      "-----------\n",
      "   |   |  \n",
      " X | O |  \n",
      "   |   |  \n",
      "Cogralutations! Player1 has won the game\n",
      "Do you want to replay the Tic Tac Toe game (Yes/No) : n\n"
     ]
    }
   ],
   "source": [
    "print('Welcome to Tic Tac Toe!')\n",
    "\n",
    "while True:\n",
    "    board=[' ']*10\n",
    "    player1_marker,player2_marker=player_input()\n",
    "    play_turn=choose_first()\n",
    "    print('Player{} will play first.'.format(play_turn))\n",
    "    game_start= input(\"Ready to play (Yes/No) : \").lower()\n",
    "    \n",
    "    if game_start.startswith('y'):\n",
    "        game_play=True\n",
    "    else:\n",
    "        game_play=False\n",
    "    \n",
    "    while game_play:\n",
    "        if play_turn == 'Player1':\n",
    "            display_board(board)\n",
    "            print('************')\n",
    "            position=player_choice(board)\n",
    "            place_marker(board, player1_marker, position)\n",
    "            if win_check(board,player1_marker):\n",
    "                display_board(board)\n",
    "                print('Cogralutations! Player1 has won the game')\n",
    "                game_play=False\n",
    "            else:\n",
    "                if full_board_check(board):\n",
    "                    print('The game is a draw.')\n",
    "                    display_board(board)\n",
    "                    break\n",
    "                else:\n",
    "                    play_turn='Player2'\n",
    "        else:\n",
    "            display_board(board)\n",
    "            print('************')\n",
    "            position=player_choice(board)\n",
    "            place_marker(board, player2_marker, position)\n",
    "            if win_check(board,player2_marker):\n",
    "                display_board(board)\n",
    "                print('Cogralutations! Player2 has won the game')\n",
    "                game_play=False\n",
    "            else:\n",
    "                if full_board_check(board):\n",
    "                    print('The game is a draw.')\n",
    "                    display_board(board)\n",
    "                    break\n",
    "                else:\n",
    "                    play_turn='Player1'\n",
    "    \n",
    "    if not replay():\n",
    "        break"
   ]
  },
  {
   "cell_type": "code",
   "execution_count": null,
   "metadata": {},
   "outputs": [],
   "source": []
  }
 ],
 "metadata": {
  "kernelspec": {
   "display_name": "Python 3",
   "language": "python",
   "name": "python3"
  },
  "language_info": {
   "codemirror_mode": {
    "name": "ipython",
    "version": 3
   },
   "file_extension": ".py",
   "mimetype": "text/x-python",
   "name": "python",
   "nbconvert_exporter": "python",
   "pygments_lexer": "ipython3",
   "version": "3.7.6"
  }
 },
 "nbformat": 4,
 "nbformat_minor": 4
}
